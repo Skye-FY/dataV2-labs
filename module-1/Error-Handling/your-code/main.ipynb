{
 "cells": [
  {
   "cell_type": "markdown",
   "metadata": {},
   "source": [
    "# Before your start:\n",
    "- Read the README.md file\n",
    "- Comment as much as you can and use the resources in the README.md file\n",
    "- Happy learning!"
   ]
  },
  {
   "cell_type": "code",
   "execution_count": 1,
   "metadata": {},
   "outputs": [],
   "source": [
    "# Libraries\n",
    "import math"
   ]
  },
  {
   "cell_type": "markdown",
   "metadata": {},
   "source": [
    "# Challenge 1 - Handling Errors Using `if` Statements\n",
    "\n",
    "In many cases, we are able to identify issues that may come up in our code and handle those handlful of issues with an `if` statment. Sometimes we would like to handle different types of inputs and are aware that later in the code, we will have to write two different branches of code for the two different cases we allowed in the beginning.\n",
    "\n",
    "In the 3 cells below, add an `if` statment that will handle both types of input allowed in the functions."
   ]
  },
  {
   "cell_type": "code",
   "execution_count": 86,
   "metadata": {},
   "outputs": [
    {
     "name": "stdout",
     "output_type": "stream",
     "text": [
      "Number not accepted.\n",
      "Please enter a real number\n"
     ]
    },
    {
     "ename": "NameError",
     "evalue": "name 'x' is not defined",
     "output_type": "error",
     "traceback": [
      "\u001b[1;31m---------------------------------------------------------------------------\u001b[0m",
      "\u001b[1;31mNameError\u001b[0m                                 Traceback (most recent call last)",
      "\u001b[1;32m<ipython-input-86-9d9070c8b89f>\u001b[0m in \u001b[0;36m<module>\u001b[1;34m\u001b[0m\n\u001b[0;32m     24\u001b[0m \u001b[1;32mtry\u001b[0m \u001b[1;33m:\u001b[0m\u001b[1;33m\u001b[0m\u001b[1;33m\u001b[0m\u001b[0m\n\u001b[0;32m     25\u001b[0m     \u001b[0msqrt_for_all\u001b[0m\u001b[1;33m(\u001b[0m\u001b[1;36m4\u001b[0m\u001b[1;33m)\u001b[0m\u001b[1;33m\u001b[0m\u001b[1;33m\u001b[0m\u001b[0m\n\u001b[1;32m---> 26\u001b[1;33m     \u001b[0mprint\u001b[0m\u001b[1;33m(\u001b[0m\u001b[1;34m'Analyzing square root of '\u001b[0m\u001b[1;33m,\u001b[0m \u001b[0mx\u001b[0m\u001b[1;33m,\u001b[0m \u001b[1;34m'---'\u001b[0m\u001b[1;33m,\u001b[0m\u001b[1;34m'\\n'\u001b[0m\u001b[1;33m,\u001b[0m \u001b[1;34m'Funtion ran successfully; square root computed.'\u001b[0m \u001b[1;33m)\u001b[0m\u001b[1;33m\u001b[0m\u001b[1;33m\u001b[0m\u001b[0m\n\u001b[0m\u001b[0;32m     27\u001b[0m \u001b[1;33m\u001b[0m\u001b[0m\n\u001b[0;32m     28\u001b[0m \u001b[1;32mexcept\u001b[0m \u001b[0mValueError\u001b[0m\u001b[1;33m:\u001b[0m\u001b[1;33m\u001b[0m\u001b[1;33m\u001b[0m\u001b[0m\n",
      "\u001b[1;31mNameError\u001b[0m: name 'x' is not defined"
     ]
    }
   ],
   "source": [
    "# Modify the code below to handle positive and negative numbers by adding an if statement and performing a transformation:\n",
    "\n",
    "def sqrt_for_all(x):\n",
    "    \"\"\"\n",
    "    This function will take any real number and \n",
    "    return the square root of its magnitude.\n",
    "    \n",
    "    Input: Real number\n",
    "    Output: Real number\n",
    "    \n",
    "    Sample Input: -4\n",
    "    Sample Output: 2.0\n",
    "    \"\"\"\n",
    "    \n",
    "    return math.sqrt(x)\n",
    "\n",
    "try :\n",
    "    sqrt_for_all(-1)\n",
    "    print('Analyzing square root of ', '---','\\n', 'Funtion ran successfully; square root computed.' )\n",
    "    \n",
    "except ValueError:\n",
    "    print('Number not accepted.\\nPlease enter a real number') \n",
    "    \n",
    "try :\n",
    "    sqrt_for_all(4)\n",
    "    print('Analyzing square root of ', '---','\\n', 'Funtion ran successfully; square root computed.' )\n",
    "    \n",
    "except ValueError:\n",
    "    print('Number not accepted.\\nPlease enter a real number')"
   ]
  },
  {
   "cell_type": "code",
   "execution_count": 15,
   "metadata": {},
   "outputs": [
    {
     "name": "stdout",
     "output_type": "stream",
     "text": [
      "Function errored out.\n",
      "Denominator cannot be zero.\n"
     ]
    }
   ],
   "source": [
    "# Modify the code below to handle zero as well. In the case of zero, return zero\n",
    "\n",
    "def divide(x, y):\n",
    "    \"\"\"\n",
    "    This function will take any two real numbers \n",
    "    and return their quotient. \n",
    "    If the denominator is zero, we return zero.\n",
    "    \n",
    "    Input: Real number\n",
    "    Output: Real number\n",
    "    \n",
    "    Sample Input: 5, 1\n",
    "    Sample Output: 5.0\n",
    "    \"\"\"\n",
    "    \n",
    "    return x / y\n",
    "\n",
    "try:\n",
    "    divide(5, 0)\n",
    "    print('Function ran successfully.')\n",
    "\n",
    "except ZeroDivisionError:\n",
    "    print('Function errored out.\\nDenominator cannot be zero.')\n",
    "\n"
   ]
  },
  {
   "cell_type": "code",
   "execution_count": 45,
   "metadata": {},
   "outputs": [
    {
     "name": "stdout",
     "output_type": "stream",
     "text": [
      "Entry accepted.\n",
      "Function ran successfully.\n",
      "Function returns 11.\n"
     ]
    }
   ],
   "source": [
    "# Modify the function below that it will take either an number and a list or two numbers. \n",
    "# If we take two numbers, add them together and return a list of length 1. \n",
    "# Otherwise, add the number to every element of the list and return the resulting list\n",
    "\n",
    "def add_elements(a, l):\n",
    "    \"\"\"\n",
    "    This function takes either two numbers or a list and a number \n",
    "    and adds the number to all elements of the list.\n",
    "    If the function only takes two numbers, it returns a list \n",
    "    of length one that is the sum of the numbers.\n",
    "    \n",
    "    Input: number and list or two numbers\n",
    "    Output: list\n",
    "    \n",
    "    Sample Input: 5, 6\n",
    "    Sample Output: [11]\n",
    "    \"\"\"\n",
    "    resulting_list = []\n",
    "    if type(a) == int:\n",
    "        if type(l) == int:\n",
    "            return a + l\n",
    "        if type(l) == list:\n",
    "            resulting_list.append(a)\n",
    "            for element in l:\n",
    "                resulting_list.append(element) \n",
    "            return resulting_list\n",
    "        else:\n",
    "            raise ValueError('Function takes two arguments of either number or a list.')\n",
    "    if type(a) == list:\n",
    "        if type(l) == int:\n",
    "            resulting_list.append(l)\n",
    "            for val in a:\n",
    "                resulting_list.append(val) \n",
    "            return resulting_list\n",
    "        if type(a) == list:\n",
    "            raise ValueError('Function takes two arguments of either number or a list.')\n",
    "               \n",
    "try:\n",
    "    add_elements(5,6)\n",
    "    print('Entry accepted.\\nFunction ran successfully.\\nFunction returns %d.' %add_elements(5,6))\n",
    "    \n",
    "except ValueError:\n",
    "    print('Function takes two arguments of either number or a list.\\nPlease re-enter value.')\n",
    "    "
   ]
  },
  {
   "cell_type": "markdown",
   "metadata": {},
   "source": [
    "# Challenge 2 - Fixing Errors to Get Code to Run\n",
    "\n",
    "Sometimes the error is not caused by the input but by the code itself. In the 2 following cells below, examine the error and correct the code to avoid the error."
   ]
  },
  {
   "cell_type": "code",
   "execution_count": 48,
   "metadata": {},
   "outputs": [
    {
     "data": {
      "text/plain": [
       "[2, 3, 4, 5]"
      ]
     },
     "execution_count": 48,
     "metadata": {},
     "output_type": "execute_result"
    }
   ],
   "source": [
    "# Modify the code below:\n",
    "\n",
    "l = [1,2,3,4]\n",
    "\n",
    "[element + 1 for element in l]\n"
   ]
  },
  {
   "cell_type": "code",
   "execution_count": 53,
   "metadata": {},
   "outputs": [
    {
     "name": "stdout",
     "output_type": "stream",
     "text": [
      "The current element in the loop is 1.\n",
      "The current element in the loop is 2.\n",
      "The current element in the loop is 3.\n",
      "The current element in the loop is 4.\n"
     ]
    }
   ],
   "source": [
    "# Modify the code below:\n",
    "\n",
    "l = [1,2,3,4]\n",
    "\n",
    "for element in l:      \n",
    "    print(\"The current element in the loop is %d.\" %element)\n"
   ]
  },
  {
   "cell_type": "markdown",
   "metadata": {},
   "source": [
    "# Bonus Challenge - Raise Errors on Your Own\n",
    "\n",
    "There are cases where you need to alert your users of a problem even if the input will not immediately produce an error. In these cases you may want to throw an error yourself to bring attention to the problem. In the 2 cells below, write the functions as directed and add the appropriate errors using the `raise` clause. Make sure to add a meaningful error message."
   ]
  },
  {
   "cell_type": "code",
   "execution_count": 64,
   "metadata": {},
   "outputs": [
    {
     "name": "stdout",
     "output_type": "stream",
     "text": [
      "3.2188758248682006\n"
     ]
    },
    {
     "ename": "ValueError",
     "evalue": "Number entered cannot be zero!",
     "output_type": "error",
     "traceback": [
      "\u001b[1;31m---------------------------------------------------------------------------\u001b[0m",
      "\u001b[1;31mValueError\u001b[0m                                Traceback (most recent call last)",
      "\u001b[1;32m<ipython-input-64-8eabc5505bef>\u001b[0m in \u001b[0;36m<module>\u001b[1;34m\u001b[0m\n\u001b[0;32m     22\u001b[0m \u001b[1;33m\u001b[0m\u001b[0m\n\u001b[0;32m     23\u001b[0m \u001b[0mprint\u001b[0m\u001b[1;33m(\u001b[0m\u001b[0mlog_square\u001b[0m\u001b[1;33m(\u001b[0m\u001b[1;36m5\u001b[0m\u001b[1;33m)\u001b[0m\u001b[1;33m)\u001b[0m\u001b[1;33m\u001b[0m\u001b[1;33m\u001b[0m\u001b[0m\n\u001b[1;32m---> 24\u001b[1;33m \u001b[0mprint\u001b[0m\u001b[1;33m(\u001b[0m\u001b[0mlog_square\u001b[0m\u001b[1;33m(\u001b[0m\u001b[1;36m0\u001b[0m\u001b[1;33m)\u001b[0m\u001b[1;33m)\u001b[0m\u001b[1;33m\u001b[0m\u001b[1;33m\u001b[0m\u001b[0m\n\u001b[0m\u001b[0;32m     25\u001b[0m \u001b[1;33m\u001b[0m\u001b[0m\n\u001b[0;32m     26\u001b[0m \u001b[1;33m\u001b[0m\u001b[0m\n",
      "\u001b[1;32m<ipython-input-64-8eabc5505bef>\u001b[0m in \u001b[0;36mlog_square\u001b[1;34m(x)\u001b[0m\n\u001b[0;32m     19\u001b[0m         \u001b[1;32mreturn\u001b[0m \u001b[0mm\u001b[0m\u001b[1;33m.\u001b[0m\u001b[0mlog\u001b[0m\u001b[1;33m(\u001b[0m\u001b[0mx\u001b[0m\u001b[1;33m**\u001b[0m\u001b[1;36m2\u001b[0m\u001b[1;33m)\u001b[0m\u001b[1;33m\u001b[0m\u001b[1;33m\u001b[0m\u001b[0m\n\u001b[0;32m     20\u001b[0m     \u001b[1;32melse\u001b[0m\u001b[1;33m:\u001b[0m\u001b[1;33m\u001b[0m\u001b[1;33m\u001b[0m\u001b[0m\n\u001b[1;32m---> 21\u001b[1;33m         \u001b[1;32mraise\u001b[0m \u001b[0mValueError\u001b[0m\u001b[1;33m(\u001b[0m\u001b[1;34m'Number entered cannot be zero!'\u001b[0m\u001b[1;33m)\u001b[0m\u001b[1;33m\u001b[0m\u001b[1;33m\u001b[0m\u001b[0m\n\u001b[0m\u001b[0;32m     22\u001b[0m \u001b[1;33m\u001b[0m\u001b[0m\n\u001b[0;32m     23\u001b[0m \u001b[0mprint\u001b[0m\u001b[1;33m(\u001b[0m\u001b[0mlog_square\u001b[0m\u001b[1;33m(\u001b[0m\u001b[1;36m5\u001b[0m\u001b[1;33m)\u001b[0m\u001b[1;33m)\u001b[0m\u001b[1;33m\u001b[0m\u001b[1;33m\u001b[0m\u001b[0m\n",
      "\u001b[1;31mValueError\u001b[0m: Number entered cannot be zero!"
     ]
    }
   ],
   "source": [
    "import math as m\n",
    "\n",
    "def log_square(x):\n",
    "    \"\"\"\n",
    "    This function takes a numeric value and returns the \n",
    "    natural log of the square of the number.\n",
    "    The function raises an error if the number is equal to zero.\n",
    "    Use the math.log function in this funtion.\n",
    "    \n",
    "    Input: Real number\n",
    "    Output: Real number or error\n",
    "    \n",
    "    Sample Input: 5\n",
    "    Sample Output: 3.21887\n",
    "    \"\"\"\n",
    "    \n",
    "    # Your code here:\n",
    "    if x != 0:\n",
    "        return m.log(x**2)\n",
    "    else:\n",
    "        raise ValueError('Number entered cannot be zero!')\n",
    "    \n",
    "print(log_square(5))   \n",
    "print(log_square(0))\n",
    "\n",
    "    "
   ]
  },
  {
   "cell_type": "code",
   "execution_count": 85,
   "metadata": {},
   "outputs": [
    {
     "name": "stdout",
     "output_type": "stream",
     "text": [
      "True. Max contains at least one capital letter.\n"
     ]
    }
   ],
   "source": [
    "def check_capital(x):\n",
    "    \"\"\"\n",
    "    This function returns true if the string contains \n",
    "    at least one capital letter and throws an error otherwise.\n",
    "    \n",
    "    Input: String\n",
    "    Output: Bool or error message\n",
    "    \n",
    "    Sample Input: 'John'\n",
    "    Sample Output: True\n",
    "    \"\"\"\n",
    "    \n",
    "    # Your code here:\n",
    "    if type(x) != str:\n",
    "        raise ValueError('Entry not accepted.\\nPlease enter a string.')\n",
    "    else:\n",
    "        for element in x:\n",
    "            count = 0\n",
    "            if element.isupper() == True:\n",
    "                count += 1\n",
    "                if count >= 1:\n",
    "                    print('True.',x,'contains at least one capital letter.')\n",
    "                else:\n",
    "                    raise ValueError('Entry does not contain capital letter.')\n",
    "            \n",
    "            \n",
    "\n",
    "check_capital('Max')\n",
    "    "
   ]
  }
 ],
 "metadata": {
  "kernelspec": {
   "display_name": "Python 3",
   "language": "python",
   "name": "python3"
  },
  "language_info": {
   "codemirror_mode": {
    "name": "ipython",
    "version": 3
   },
   "file_extension": ".py",
   "mimetype": "text/x-python",
   "name": "python",
   "nbconvert_exporter": "python",
   "pygments_lexer": "ipython3",
   "version": "3.7.4"
  }
 },
 "nbformat": 4,
 "nbformat_minor": 2
}

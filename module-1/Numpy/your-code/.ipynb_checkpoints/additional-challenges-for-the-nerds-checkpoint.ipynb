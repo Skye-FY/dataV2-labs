{
 "cells": [
  {
   "cell_type": "markdown",
   "metadata": {},
   "source": [
    "Insert dashes"
   ]
  },
  {
   "cell_type": "markdown",
   "metadata": {},
   "source": [
    "Thinkful - Logic Drills: Red and bumpy"
   ]
  }
 ],
 "metadata": {
  "kernelspec": {
   "display_name": "Python 3.8.1 64-bit",
   "language": "python",
   "name": "python38164bit218250ea599346cdb3968bf1df1e4ea3"
  }
 },
 "nbformat": 4,
 "nbformat_minor": 2
}

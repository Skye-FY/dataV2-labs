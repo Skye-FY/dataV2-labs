{
 "cells": [
  {
   "cell_type": "markdown",
   "metadata": {},
   "source": [
    "# Intrduction to NumPy\n",
    "\n",
    "\n",
    "#### 1. Import NumPy under the name np."
   ]
  },
  {
   "cell_type": "code",
   "execution_count": 124,
   "metadata": {},
   "outputs": [],
   "source": [
    "# your code here\n",
    "import numpy as np"
   ]
  },
  {
   "cell_type": "markdown",
   "metadata": {},
   "source": [
    "#### 2. Print your NumPy version."
   ]
  },
  {
   "cell_type": "code",
   "execution_count": 125,
   "metadata": {},
   "outputs": [
    {
     "name": "stdout",
     "output_type": "stream",
     "text": [
      "<module 'numpy.version' from 'C:\\\\ProgramData\\\\Anaconda3\\\\lib\\\\site-packages\\\\numpy\\\\version.py'>\n",
      "My NumPy version is 1.16.5.\n"
     ]
    }
   ],
   "source": [
    "# your code here\n",
    "print(np.version)\n",
    "print('My NumPy version is %s.' %np.version.version)"
   ]
  },
  {
   "cell_type": "markdown",
   "metadata": {},
   "source": [
    "#### 3. Generate a 2x3x5 3-dimensional array with random values. Assign the array to variable *a*.\n",
    "**Challenge**: there are at least three easy ways that use numpy to generate random arrays. How many ways can you find?"
   ]
  },
  {
   "cell_type": "code",
   "execution_count": 126,
   "metadata": {},
   "outputs": [
    {
     "name": "stdout",
     "output_type": "stream",
     "text": [
      "[[[0.22735809 0.50564077 0.13661361 0.5626026  0.68413503]\n",
      "  [0.46302315 0.89455322 0.63396838 0.07094991 0.30230736]\n",
      "  [0.03263088 0.38167449 0.88649366 0.20478791 0.90936338]]\n",
      "\n",
      " [[0.30283531 0.79724885 0.27583074 0.51885704 0.62010037]\n",
      "  [0.5061462  0.4387654  0.13446223 0.12407845 0.12106477]\n",
      "  [0.1392939  0.56056093 0.04831316 0.76687046 0.07381112]]]\n"
     ]
    }
   ],
   "source": [
    "# Method 1\n",
    "a = np.random.random((2, 3, 5))\n",
    "print(a)"
   ]
  },
  {
   "cell_type": "code",
   "execution_count": 127,
   "metadata": {},
   "outputs": [
    {
     "name": "stdout",
     "output_type": "stream",
     "text": [
      "[[[25  9 59 23 68]\n",
      "  [99 79 84 26 17]\n",
      "  [95 60 45 35 38]]\n",
      "\n",
      " [[20 53 88 27  8]\n",
      "  [31 64 62 90 43]\n",
      "  [ 1 39 30 63 78]]]\n"
     ]
    }
   ],
   "source": [
    "# Method 2\n",
    "import random\n",
    "a1 = np.array(random.sample(range(0,101),30)).reshape(2,3,5)\n",
    "print(a1)"
   ]
  },
  {
   "cell_type": "code",
   "execution_count": 128,
   "metadata": {},
   "outputs": [
    {
     "name": "stdout",
     "output_type": "stream",
     "text": [
      "[[[ 0  3  6  9 12]\n",
      "  [15 18 21 24 27]\n",
      "  [30 33 36 39 42]]\n",
      "\n",
      " [[45 48 51 54 57]\n",
      "  [60 63 66 69 72]\n",
      "  [75 78 81 84 87]]]\n"
     ]
    }
   ],
   "source": [
    "# Method 3\n",
    "a2 = np.arange(0,90,3).reshape(2, 3, 5)\n",
    "print(a2)"
   ]
  },
  {
   "cell_type": "code",
   "execution_count": 129,
   "metadata": {},
   "outputs": [
    {
     "name": "stdout",
     "output_type": "stream",
     "text": [
      "[[[26 34 16 96 10]\n",
      "  [26 13 70 39 84]\n",
      "  [84 21 59 51 68]]\n",
      "\n",
      " [[15 42 46  7 19]\n",
      "  [ 1 96 60 23 30]\n",
      "  [59 99 69 22 16]]]\n"
     ]
    }
   ],
   "source": [
    "a3 = np.array([np.random.randint(0,100,1)[0] for i in range(30)]).reshape(2, 3, 5)\n",
    "print(a3)"
   ]
  },
  {
   "cell_type": "markdown",
   "metadata": {},
   "source": [
    "#### 4. Print *a*.\n"
   ]
  },
  {
   "cell_type": "code",
   "execution_count": 130,
   "metadata": {},
   "outputs": [
    {
     "name": "stdout",
     "output_type": "stream",
     "text": [
      "[[[0.22735809 0.50564077 0.13661361 0.5626026  0.68413503]\n",
      "  [0.46302315 0.89455322 0.63396838 0.07094991 0.30230736]\n",
      "  [0.03263088 0.38167449 0.88649366 0.20478791 0.90936338]]\n",
      "\n",
      " [[0.30283531 0.79724885 0.27583074 0.51885704 0.62010037]\n",
      "  [0.5061462  0.4387654  0.13446223 0.12407845 0.12106477]\n",
      "  [0.1392939  0.56056093 0.04831316 0.76687046 0.07381112]]]\n"
     ]
    }
   ],
   "source": [
    "# your code here\n",
    "print(a)"
   ]
  },
  {
   "cell_type": "markdown",
   "metadata": {},
   "source": [
    "#### 5. Create a 5x2x3 3-dimensional array with all values equaling 1. Assign the array to variable *b*."
   ]
  },
  {
   "cell_type": "code",
   "execution_count": 131,
   "metadata": {},
   "outputs": [],
   "source": [
    "# your code here\n",
    "b = np.ones((5, 2, 3))"
   ]
  },
  {
   "cell_type": "markdown",
   "metadata": {},
   "source": [
    "#### 6. Print *b*.\n"
   ]
  },
  {
   "cell_type": "code",
   "execution_count": 132,
   "metadata": {},
   "outputs": [
    {
     "name": "stdout",
     "output_type": "stream",
     "text": [
      "[[[1. 1. 1.]\n",
      "  [1. 1. 1.]]\n",
      "\n",
      " [[1. 1. 1.]\n",
      "  [1. 1. 1.]]\n",
      "\n",
      " [[1. 1. 1.]\n",
      "  [1. 1. 1.]]\n",
      "\n",
      " [[1. 1. 1.]\n",
      "  [1. 1. 1.]]\n",
      "\n",
      " [[1. 1. 1.]\n",
      "  [1. 1. 1.]]]\n"
     ]
    }
   ],
   "source": [
    "# your code here\n",
    "print(b)"
   ]
  },
  {
   "cell_type": "markdown",
   "metadata": {},
   "source": [
    "#### 7. Do *a* and *b* have the same size? How do you prove that in Python code?"
   ]
  },
  {
   "cell_type": "code",
   "execution_count": 133,
   "metadata": {},
   "outputs": [
    {
     "name": "stdout",
     "output_type": "stream",
     "text": [
      "a and b have the same size.\n"
     ]
    }
   ],
   "source": [
    "# your code here\n",
    "print('a and b have the same size.' if a.size == b.size else 'a and b have different sizes.')"
   ]
  },
  {
   "cell_type": "markdown",
   "metadata": {},
   "source": [
    "#### 8. Are you able to add *a* and *b*? Why or why not?\n"
   ]
  },
  {
   "cell_type": "code",
   "execution_count": 134,
   "metadata": {},
   "outputs": [
    {
     "name": "stdout",
     "output_type": "stream",
     "text": [
      "Shape of Matrix a differs from which of Matrix b.\n",
      "Operands could not be broadcast together with shapes (2,3,5) (5,2,3)\n"
     ]
    }
   ],
   "source": [
    "# your answer here\n",
    "try:\n",
    "    np.add(a,b)\n",
    "    \n",
    "except ValueError:\n",
    "    print('Shape of Matrix a differs from which of Matrix b.\\nOperands could not be broadcast together with shapes (2,3,5) (5,2,3)')"
   ]
  },
  {
   "cell_type": "markdown",
   "metadata": {},
   "source": [
    "#### 9. Transpose *b* so that it has the same structure of *a* (i.e. become a 2x3x5 array). Assign the transposed array to variable *c*."
   ]
  },
  {
   "cell_type": "code",
   "execution_count": 135,
   "metadata": {},
   "outputs": [
    {
     "name": "stdout",
     "output_type": "stream",
     "text": [
      "[[[1. 1. 1. 1. 1.]\n",
      "  [1. 1. 1. 1. 1.]\n",
      "  [1. 1. 1. 1. 1.]]\n",
      "\n",
      " [[1. 1. 1. 1. 1.]\n",
      "  [1. 1. 1. 1. 1.]\n",
      "  [1. 1. 1. 1. 1.]]]\n"
     ]
    }
   ],
   "source": [
    "# your code here\n",
    "c = b.reshape(2,3,5)\n",
    "print(c)"
   ]
  },
  {
   "cell_type": "markdown",
   "metadata": {},
   "source": [
    "#### 10. Try to add *a* and *c*. Now it should work. Assign the sum to variable *d*. But why does it work now?"
   ]
  },
  {
   "cell_type": "code",
   "execution_count": 136,
   "metadata": {},
   "outputs": [
    {
     "name": "stdout",
     "output_type": "stream",
     "text": [
      "[[[1.22735809 1.50564077 1.13661361 1.5626026  1.68413503]\n",
      "  [1.46302315 1.89455322 1.63396838 1.07094991 1.30230736]\n",
      "  [1.03263088 1.38167449 1.88649366 1.20478791 1.90936338]]\n",
      "\n",
      " [[1.30283531 1.79724885 1.27583074 1.51885704 1.62010037]\n",
      "  [1.5061462  1.4387654  1.13446223 1.12407845 1.12106477]\n",
      "  [1.1392939  1.56056093 1.04831316 1.76687046 1.07381112]]] \n",
      "Arrays sharing the same structure can be combined with addition.\n"
     ]
    }
   ],
   "source": [
    "# your code/answer here\n",
    "d = np.add(a, c)\n",
    "print(d,'\\nArrays sharing the same structure can be combined with addition.' if type(np.add(a,c)) == np.ndarray else 'Addition cannot be processed.' )"
   ]
  },
  {
   "cell_type": "markdown",
   "metadata": {},
   "source": [
    "#### 11. Print *a* and *d*. Notice the difference and relation of the two array in terms of the values? Explain."
   ]
  },
  {
   "cell_type": "code",
   "execution_count": 137,
   "metadata": {},
   "outputs": [
    {
     "name": "stdout",
     "output_type": "stream",
     "text": [
      "Array a:\n",
      " [[[0.22735809 0.50564077 0.13661361 0.5626026  0.68413503]\n",
      "  [0.46302315 0.89455322 0.63396838 0.07094991 0.30230736]\n",
      "  [0.03263088 0.38167449 0.88649366 0.20478791 0.90936338]]\n",
      "\n",
      " [[0.30283531 0.79724885 0.27583074 0.51885704 0.62010037]\n",
      "  [0.5061462  0.4387654  0.13446223 0.12407845 0.12106477]\n",
      "  [0.1392939  0.56056093 0.04831316 0.76687046 0.07381112]]] \n",
      "\n",
      "Array d:\n",
      " [[[1.22735809 1.50564077 1.13661361 1.5626026  1.68413503]\n",
      "  [1.46302315 1.89455322 1.63396838 1.07094991 1.30230736]\n",
      "  [1.03263088 1.38167449 1.88649366 1.20478791 1.90936338]]\n",
      "\n",
      " [[1.30283531 1.79724885 1.27583074 1.51885704 1.62010037]\n",
      "  [1.5061462  1.4387654  1.13446223 1.12407845 1.12106477]\n",
      "  [1.1392939  1.56056093 1.04831316 1.76687046 1.07381112]]]\n"
     ]
    }
   ],
   "source": [
    "# your code/answer here\n",
    "print('Array a:\\n', a,'\\n\\nArray d:\\n', d)\n",
    "#The difference of all elements, which share the same index in Array a and Array c, is one.\n",
    "#This is because Array c was created by reshaping Array b, which its elements are all 'ones' upon creation."
   ]
  },
  {
   "cell_type": "markdown",
   "metadata": {},
   "source": [
    "#### 12. Multiply *a* and *c*. Assign the result to *e*."
   ]
  },
  {
   "cell_type": "code",
   "execution_count": 138,
   "metadata": {},
   "outputs": [
    {
     "name": "stdout",
     "output_type": "stream",
     "text": [
      "[[[0.22735809 0.50564077 0.13661361 0.5626026  0.68413503]\n",
      "  [0.46302315 0.89455322 0.63396838 0.07094991 0.30230736]\n",
      "  [0.03263088 0.38167449 0.88649366 0.20478791 0.90936338]]\n",
      "\n",
      " [[0.30283531 0.79724885 0.27583074 0.51885704 0.62010037]\n",
      "  [0.5061462  0.4387654  0.13446223 0.12407845 0.12106477]\n",
      "  [0.1392939  0.56056093 0.04831316 0.76687046 0.07381112]]]\n"
     ]
    }
   ],
   "source": [
    "# your code here\n",
    "e = np.multiply(a, c)\n",
    "print(e)"
   ]
  },
  {
   "cell_type": "markdown",
   "metadata": {},
   "source": [
    "#### 13. Does *e* equal to *a*? Why or why not?\n"
   ]
  },
  {
   "cell_type": "code",
   "execution_count": 139,
   "metadata": {},
   "outputs": [
    {
     "name": "stdout",
     "output_type": "stream",
     "text": [
      "Array e equals to a.\n"
     ]
    }
   ],
   "source": [
    "# your code/answer here\n",
    "print('Array e equals to a.' if e.all() == a.all() else 'Array e does not equal to a.')\n",
    "#Array c is of all ones. Multiplying each element in Array a with one generates the same element in Array e. "
   ]
  },
  {
   "cell_type": "markdown",
   "metadata": {},
   "source": [
    "#### 14. Identify the max, min, and mean values in *d*. Assign those values to variables *d_max*, *d_min* and *d_mean*."
   ]
  },
  {
   "cell_type": "code",
   "execution_count": 154,
   "metadata": {},
   "outputs": [
    {
     "name": "stdout",
     "output_type": "stream",
     "text": [
      "Maximum value in Array d is 1.909363.\n",
      "Minimum value in Array d is 1.032631.\n",
      "Mean of Array d is 1.410811.\n"
     ]
    }
   ],
   "source": [
    "# your code here\n",
    "d_max = np.amax(d)\n",
    "d_min = np.min(d)\n",
    "d_mean = np.mean(d)\n",
    "print('Maximum value in Array d is %f.\\nMinimum value in Array d is %f.\\nMean of Array d is %f.' %(d_max, d_min, d_mean))"
   ]
  },
  {
   "cell_type": "markdown",
   "metadata": {},
   "source": [
    "#### 15. Now we want to label the values in *d*. First create an empty array *f* with the same shape (i.e. 2x3x5) as *d* using `np.empty`.\n"
   ]
  },
  {
   "cell_type": "code",
   "execution_count": 249,
   "metadata": {},
   "outputs": [
    {
     "name": "stdout",
     "output_type": "stream",
     "text": [
      "[[[ 25.  75.  25.  75.  75.]\n",
      "  [ 75.  75.  75.  25.  25.]\n",
      "  [  0.  25.  75.  25. 100.]]\n",
      "\n",
      " [[ 25.  75.  25.  75.  75.]\n",
      "  [ 75.  75.  25.  25.  25.]\n",
      "  [ 25.  75.  25.  75.  25.]]]\n"
     ]
    }
   ],
   "source": [
    "# your code here\n",
    "f = np.empty((2, 3, 5))\n",
    "print(f)"
   ]
  },
  {
   "cell_type": "markdown",
   "metadata": {},
   "source": [
    "#### 16. Populate the values in *f*. \n",
    "\n",
    "For each value in *d*, if it's larger than *d_min* but smaller than *d_mean*, assign 25 to the corresponding value in *f*. If a value in *d* is larger than *d_mean* but smaller than *d_max*, assign 75 to the corresponding value in *f*. If a value equals to *d_mean*, assign 50 to the corresponding value in *f*. Assign 0 to the corresponding value(s) in *f* for *d_min* in *d*. Assign 100 to the corresponding value(s) in *f* for *d_max* in *d*. In the end, f should have only the following values: 0, 25, 50, 75, and 100.\n",
    "\n",
    "**Note**: you don't have to use Numpy in this question."
   ]
  },
  {
   "cell_type": "code",
   "execution_count": 257,
   "metadata": {},
   "outputs": [],
   "source": [
    "# fix later to see if below would work\n",
    "# # your code here\n",
    "# # f = [25 for val in d if d_mean > val > d_min else(75 for val in d if d_max > val > d_mean else (50 for val in d if val == d_mean else ( 0 for val in d if val == d_min else (100 for val in d if val == d_max)))\n",
    "\n",
    "# for val in d:\n",
    "#     if d_mean > val and  val > d_min:\n",
    "#         f.append(25)\n",
    "#         if (d_max > val > d_mean):\n",
    "#             f.append(75)\n",
    "#             if val == d_mean:\n",
    "#                 f.append(50)\n",
    "#                 if val == d_min:\n",
    "#                     f.append(0)\n",
    "#                 elif val == d_max:\n",
    "#                     f.append(100)\n",
    "# # f = np.where(f)"
   ]
  },
  {
   "cell_type": "markdown",
   "metadata": {},
   "source": [
    "#### 17. Print *d* and *f*. Do you have your expected *f*?\n",
    "For instance, if your *d* is:\n",
    "```python\n",
    "[[[1.85836099, 1.67064465, 1.62576044, 1.40243961, 1.88454931],\n",
    "[1.75354326, 1.69403643, 1.36729252, 1.61415071, 1.12104981],\n",
    "[1.72201435, 1.1862918 , 1.87078449, 1.7726778 , 1.88180042]],\n",
    "[[1.44747908, 1.31673383, 1.02000951, 1.52218947, 1.97066381],\n",
    "[1.79129243, 1.74983003, 1.96028037, 1.85166831, 1.65450881],\n",
    "[1.18068344, 1.9587381 , 1.00656599, 1.93402165, 1.73514584]]]\n",
    "```\n",
    "Your *f* should be:\n",
    "```python\n",
    "[[[ 75.,  75.,  75.,  25.,  75.],\n",
    "[ 75.,  75.,  25.,  25.,  25.],\n",
    "[ 75.,  25.,  75.,  75.,  75.]],\n",
    "[[ 25.,  25.,  25.,  25., 100.],\n",
    "[ 75.,  75.,  75.,  75.,  75.],\n",
    "[ 25.,  75.,   0.,  75.,  75.]]]\n",
    "```"
   ]
  },
  {
   "cell_type": "code",
   "execution_count": 259,
   "metadata": {},
   "outputs": [
    {
     "name": "stdout",
     "output_type": "stream",
     "text": [
      "Array d:\n",
      " [[[1.22735809 1.50564077 1.13661361 1.5626026  1.68413503]\n",
      "  [1.46302315 1.89455322 1.63396838 1.07094991 1.30230736]\n",
      "  [1.03263088 1.38167449 1.88649366 1.20478791 1.90936338]]\n",
      "\n",
      " [[1.30283531 1.79724885 1.27583074 1.51885704 1.62010037]\n",
      "  [1.5061462  1.4387654  1.13446223 1.12407845 1.12106477]\n",
      "  [1.1392939  1.56056093 1.04831316 1.76687046 1.07381112]]] \n",
      "\n",
      "\n",
      "Array f: \n",
      " [[[ 25.  75.  25.  75.  75.]\n",
      "  [ 75.  75.  75.  25.  25.]\n",
      "  [  0.  25.  75.  25. 100.]]\n",
      "\n",
      " [[ 25.  75.  25.  75.  75.]\n",
      "  [ 75.  75.  25.  25.  25.]\n",
      "  [ 25.  75.  25.  75.  25.]]]\n"
     ]
    }
   ],
   "source": [
    "# your code here\n",
    "f = np.empty((2,3,5))\n",
    "\n",
    "for x in range(len(d)):\n",
    "    for y in range(len(d[x])):\n",
    "        for z in range(len(d[x,y])):\n",
    "            if d[x,y,z] < d_mean and d[x,y,z] > d_min:\n",
    "                f[x,y,z] = 25\n",
    "            elif d[x,y,z] < d_max and d[x,y,z] > d_mean:\n",
    "                f[x,y,z] = 75\n",
    "            elif d[x,y,z] == d_mean:\n",
    "                f[x,y,z] = 50\n",
    "            elif d[x,y,z] == d_min:\n",
    "                f[x,y,z] == 0\n",
    "            elif d[x,y,z] == d_max:\n",
    "                f[x,y,z] = 100\n",
    "                                \n",
    "print('Array d:\\n', d,'\\n\\n\\nArray f: \\n', f)   "
   ]
  },
  {
   "cell_type": "markdown",
   "metadata": {},
   "source": [
    "#### 18. Bonus question: instead of using numbers (i.e. 0, 25, 50, 75, and 100), use string values  (\"A\", \"B\", \"C\", \"D\", and \"E\") to label the array elements. For the example above, the expected result is:\n",
    "\n",
    "```python\n",
    "[[[ 'D',  'D',  'D',  'B',  'D'],\n",
    "[ 'D',  'D',  'B',  'B',  'B'],\n",
    "[ 'D',  'B',  'D',  'D',  'D']],\n",
    "[[ 'B',  'B',  'B',  'B',  'E'],\n",
    "[ 'D',  'D',  'D',  'D',  'D'],\n",
    "[ 'B',  'D',   'A',  'D', 'D']]]\n",
    "```\n",
    "**Note**: you don't have to use Numpy in this question."
   ]
  },
  {
   "cell_type": "code",
   "execution_count": 255,
   "metadata": {},
   "outputs": [
    {
     "name": "stdout",
     "output_type": "stream",
     "text": [
      "[[['B' 'D' 'B' 'D' 'D']\n",
      "  ['D' 'D' 'D' 'B' 'B']\n",
      "  ['A' 'B' 'D' 'B' 'E']]\n",
      "\n",
      " [['B' 'D' 'B' 'D' 'D']\n",
      "  ['D' 'D' 'B' 'B' 'B']\n",
      "  ['B' 'D' 'B' 'D' 'B']]]\n"
     ]
    }
   ],
   "source": [
    "f_letter = np.empty((2,3,5),dtype=str)\n",
    "f_letter\n",
    "\n",
    "for x in range(len(d)):\n",
    "    for y in range(len(d[x])):\n",
    "        for z in range(len(d[x,y])):\n",
    "            if d[x,y,z] < d_mean and d[x,y,z] > d_min:\n",
    "                f_letter[x,y,z] = 'B'\n",
    "            elif d[x,y,z] < d_max and d[x,y,z] > d_mean:\n",
    "                f_letter[x,y,z] = 'D'\n",
    "            elif d[x,y,z] == d_mean:\n",
    "                f_letter[x,y,z] = 'C'\n",
    "            elif d[x,y,z] == d_min:\n",
    "                f_letter[x,y,z] = 'A'\n",
    "            elif d[x,y,z] == d_max:\n",
    "                f_letter[x,y,z] = 'E'\n",
    "print(f_letter)"
   ]
  }
 ],
 "metadata": {
  "kernelspec": {
   "display_name": "Python 3",
   "language": "python",
   "name": "python3"
  },
  "language_info": {
   "codemirror_mode": {
    "name": "ipython",
    "version": 3
   },
   "file_extension": ".py",
   "mimetype": "text/x-python",
   "name": "python",
   "nbconvert_exporter": "python",
   "pygments_lexer": "ipython3",
   "version": "3.7.4"
  }
 },
 "nbformat": 4,
 "nbformat_minor": 2
}

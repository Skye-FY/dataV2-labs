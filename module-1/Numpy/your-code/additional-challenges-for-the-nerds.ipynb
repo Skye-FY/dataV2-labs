{
 "cells": [
  {
   "cell_type": "markdown",
   "metadata": {},
   "source": [
    "# Insert dashes\n",
    "https://www.codewars.com/kata/insert-dashes"
   ]
  },
  {
   "cell_type": "markdown",
   "metadata": {},
   "source": [
    "Write a function insertDash(num)/InsertDash(int num) that will insert dashes ('-') between each two odd numbers in num. For example: if num is 454793 the output should be 4547-9-3. Don't count zero as an odd number.\n",
    "\n",
    "Note that the number will always be non-negative (>= 0)."
   ]
  },
  {
   "cell_type": "code",
   "execution_count": null,
   "metadata": {},
   "outputs": [],
   "source": [
    "def insert_dash(num):\n",
    "    #your code here\n",
    "    num_s = str(num)\n",
    "    num_dashed = []\n",
    "    range_num = len(num_s)\n",
    "    i = 0\n",
    "    while i <= (range_num - 1):\n",
    "        if num_s[i] % 2 != 0:\n",
    "            num_dashed[i] = num_s[i]\n",
    "            i += 1\n",
    "            if num_s[i] % 2 != 0:\n",
    "                num_dashed[i-1] = '-'\n",
    "                num_dashed[i] = num_s[i]\n",
    "                i += 1\n",
    "            elif num_s[i] % 2 == 0:\n",
    "                num_dashed[i] = num_s[i]\n",
    "                i += 1\n",
    "        if num_s[i] % 2 == 0:\n",
    "            num_dashed[i] = num_s[i]\n",
    "            i += 1\n",
    "            if num_s[i] % 2 != 0:\n",
    "                num_dashed[i] = num_s[i]\n",
    "                i += 1\n",
    "            elif num_s[i] % 2 == 0:\n",
    "                num_dashed[i] = num_s[i]\n",
    "                i += 1\n",
    "    return ''.join(num_dashed)\n",
    "\n",
    "insert_dash(123)"
   ]
  },
  {
   "cell_type": "markdown",
   "metadata": {},
   "source": [
    "# Thinkful - Logic Drills: Red and bumpy\n",
    "https://www.codewars.com/kata/thinkful-logic-drills-red-and-bumpy"
   ]
  },
  {
   "cell_type": "markdown",
   "metadata": {},
   "source": [
    "You're playing a game with a friend involving a bag of marbles. In the bag are ten marbles:\n",
    "\n",
    "1 smooth red marble\n",
    "4 bumpy red marbles\n",
    "2 bumpy yellow marbles\n",
    "1 smooth yellow marble\n",
    "1 bumpy green marble\n",
    "1 smooth green marble\n",
    "You can see that the probability of picking a smooth red marble from the bag is 1 / 10 or 0.10 and the probability of picking a bumpy yellow marble is 2 / 10 or 0.20.\n",
    "\n",
    "The game works like this: your friend puts her hand in the bag, chooses a marble (without looking at it) and tells you whether it's bumpy or smooth. Then you have to guess which color it is before she pulls it out and reveals whether you're correct or not.\n",
    "\n",
    "You know that the information about whether the marble is bumpy or smooth changes the probability of what color it is, and you want some help with your guesses.\n",
    "\n",
    "Write a function color_probability() that takes two arguments: a color ('red', 'yellow', or 'green') and a texture ('bumpy' or 'smooth') and returns the probability as a decimal fraction accurate to two places.\n",
    "\n",
    "The probability should be a string and should discard any digits after the 100ths place. For example, 2 / 3 or 0.6666666666666666 would become the string '0.66'. Note this is different from rounding.\n",
    "\n",
    "As a complete example, color_probability('red', 'bumpy') should return the string '0.57'."
   ]
  }
 ],
 "metadata": {
  "kernelspec": {
   "display_name": "Python 3.8.1 64-bit",
   "language": "python",
   "name": "python38164bit218250ea599346cdb3968bf1df1e4ea3"
  }
 },
 "nbformat": 4,
 "nbformat_minor": 2
}
